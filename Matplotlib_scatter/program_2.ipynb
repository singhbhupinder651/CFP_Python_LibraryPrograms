{
 "cells": [
  {
   "cell_type": "code",
   "execution_count": 5,
   "metadata": {},
   "outputs": [],
   "source": [
    "'''\n",
    "    @Author: Bhupinder Singh\n",
    "    @Date: 28-12-2022\n",
    "    @Last Modified by: Bhupinder Singh\n",
    "    @Last Modified date: 28-12-2022\n",
    "    @Title: Write a Python program to draw a scatter plot with empty circles taking a random distribution\n",
    "            n X and Y and plotted against each other.\n",
    "'''\n",
    "import matplotlib.pyplot as plt\n",
    "import random\n",
    "import sys\n",
    "\n",
    "from data_log import get_logger\n",
    "\n",
    "lg = get_logger(name=\"(program_2)\", file_name=\"data_log.log\")"
   ]
  },
  {
   "cell_type": "code",
   "execution_count": 6,
   "metadata": {},
   "outputs": [],
   "source": [
    "class ScatterPlot:\n",
    "    \"\"\"\n",
    "    class to perform ScatterPlot representation using matplotlib\n",
    "    \"\"\"\n",
    "\n",
    "    def display_scatter_plot(self):\n",
    "        \"\"\"\n",
    "        Description:\n",
    "             This function is used to draw a scatter plot with empty circles taking a random distribution X and Y\n",
    "        Parameter:\n",
    "            None\n",
    "        Return:\n",
    "            Returns None\n",
    "        \"\"\"\n",
    "        try:\n",
    "            x, y = [], []\n",
    "            for i in range(0, 10):\n",
    "                x_value = random.randint(0, 10)\n",
    "                x.append(x_value)\n",
    "                y_value = random.randint(0, 100)\n",
    "                y.append(y_value)\n",
    "            lg.info(f\"x data: {x}\")\n",
    "            lg.info(f\"y data: {y}\")\n",
    "            plt.scatter(x, y, facecolor='None', edgecolors='b')\n",
    "            plt.show()\n",
    "\n",
    "        except Exception:\n",
    "            exception_type, _, exception_traceback = sys.exc_info()\n",
    "            line_number = exception_traceback.tb_lineno\n",
    "            lg.exception(\n",
    "                f\"Exception type : {exception_type} \\nError on line number : {line_number}\")"
   ]
  },
  {
   "cell_type": "code",
   "execution_count": 7,
   "metadata": {},
   "outputs": [],
   "source": [
    "def main():\n",
    "    \n",
    "    np_obj = ScatterPlot()\n",
    "    np_obj.display_scatter_plot()"
   ]
  },
  {
   "cell_type": "code",
   "execution_count": 8,
   "metadata": {},
   "outputs": [
    {
     "name": "stderr",
     "output_type": "stream",
     "text": [
      "(program_2) - 2022-12-28 12:51:43,763 - INFO - x data: [4, 10, 10, 7, 7, 8, 0, 5, 3, 10]\n",
      "(program_2) - 2022-12-28 12:51:43,763 - INFO - x data: [4, 10, 10, 7, 7, 8, 0, 5, 3, 10]\n",
      "(program_2) - 2022-12-28 12:51:43,764 - INFO - y data: [19, 68, 14, 26, 51, 27, 62, 3, 100, 95]\n",
      "(program_2) - 2022-12-28 12:51:43,764 - INFO - y data: [19, 68, 14, 26, 51, 27, 62, 3, 100, 95]\n"
     ]
    },
    {
     "data": {
      "image/png": "[encoded data removed]",
      "text/plain": [
       "<Figure size 640x480 with 1 Axes>"
      ]
     },
     "metadata": {},
     "output_type": "display_data"
    }
   ],
   "source": [
    "if __name__ == \"__main__\":\n",
    "    main()"
   ]
  }
 ],
 "metadata": {
  "kernelspec": {
   "display_name": "Python 3",
   "language": "python",
   "name": "python3"
  },
  "language_info": {
   "codemirror_mode": {
    "name": "ipython",
    "version": 3
   },
   "file_extension": ".py",
   "mimetype": "text/x-python",
   "name": "python",
   "nbconvert_exporter": "python",
   "pygments_lexer": "ipython3",
   "version": "3.11.0 (main, Oct 24 2022, 18:26:48) [MSC v.1933 64 bit (AMD64)]"
  },
  "orig_nbformat": 4,
  "vscode": {
   "interpreter": {
    "hash": "c261aea317cc0286b3b3261fbba9abdec21eaa57589985bb7a274bf54d6cc0a7"
   }
  }
 },
 "nbformat": 4,
 "nbformat_minor": 2
}
