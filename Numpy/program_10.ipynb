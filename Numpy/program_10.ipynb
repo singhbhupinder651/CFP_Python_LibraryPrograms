{
 "cells": [
  {
   "cell_type": "code",
   "execution_count": null,
   "metadata": {},
   "outputs": [],
   "source": [
    "'''\n",
    "    @Author: Bhupinder Singh\n",
    "    @Date: 25-12-2022\n",
    "    @Last Modified by: Bhupinder Singh\n",
    "    @Last Modified date: 25-12-2022\n",
    "    @Title: Write a Python program to find the real and imaginary parts of an array of complex numbers.\n",
    "            Expected Output:\n",
    "            Original array [ 1.00000000+0.j 0.70710678+0.70710678j]\n",
    "            Real part of the array:\n",
    "            [ 1. 0.70710678]\n",
    "            Imaginary part of the array:\n",
    "            [ 0. 0.70710678]\n",
    "'''\n",
    "import sys\n",
    "\n",
    "from data_log import get_logger\n",
    "\n",
    "import numpy as np\n",
    "\n",
    "lg = get_logger(name=\"(program_10)\", file_name=\"data_log.log\")"
   ]
  },
  {
   "cell_type": "code",
   "execution_count": null,
   "metadata": {},
   "outputs": [],
   "source": [
    "class NumericalPython:\n",
    "\n",
    "    def append_values(self, complex_array):\n",
    "        \"\"\"\n",
    "        Description:\n",
    "             This function is used to find the real and imaginary parts of an array of complex numbers.\n",
    "        Parameter:\n",
    "            complex_array: The complex_array to be checked\n",
    "        Return:\n",
    "            Returns None\n",
    "        \"\"\"\n",
    "        try:\n",
    "            lg.info(f\"original complex number arrays are: \\n{complex_array}\")\n",
    "            real_num = np.real(complex_array)\n",
    "            imaginary_num = np.imag(complex_array)\n",
    "            lg.info(\n",
    "                f\"\\nreal number: {real_num} and \\ncomplex number: {imaginary_num}\")\n",
    "        except Exception:\n",
    "            exception_type, _, exception_traceback = sys.exc_info()\n",
    "            line_number = exception_traceback.tb_lineno\n",
    "            lg.exception(\n",
    "                f\"Exception type : {exception_type} \\nError on line number : {line_number}\")\n"
   ]
  },
  {
   "cell_type": "code",
   "execution_count": null,
   "metadata": {},
   "outputs": [],
   "source": [
    "if __name__ == \"__main__\":\n",
    "    complex_array = [1.00000000 + 0.j, 0.70710678 + 0.70710678j]\n",
    "    np_obj = NumericalPython()\n",
    "    np_obj.append_values(complex_array)"
   ]
  }
 ],
 "metadata": {
  "kernelspec": {
   "display_name": "Python 3",
   "language": "python",
   "name": "python3"
  },
  "language_info": {
   "name": "python",
   "version": "3.11.0 (main, Oct 24 2022, 18:26:48) [MSC v.1933 64 bit (AMD64)]"
  },
  "orig_nbformat": 4,
  "vscode": {
   "interpreter": {
    "hash": "c261aea317cc0286b3b3261fbba9abdec21eaa57589985bb7a274bf54d6cc0a7"
   }
  }
 },
 "nbformat": 4,
 "nbformat_minor": 2
}
