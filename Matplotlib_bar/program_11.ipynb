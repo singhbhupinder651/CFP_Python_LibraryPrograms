{
 "cells": [
  {
   "cell_type": "code",
   "execution_count": null,
   "metadata": {},
   "outputs": [],
   "source": [
    "'''\n",
    "    @Author: Bhupinder Singh\n",
    "    @Date: 27-12-2022\n",
    "    @Last Modified by: Bhupinder Singh\n",
    "    @Last Modified date: 27-12-2022\n",
    "    @Title: Write a Python program to create bar plot from a DataFrame.\n",
    "            Sample Data Frame:\n",
    "            a b c d e\n",
    "            2 4,8,5,7,6\n",
    "            4 2,3,4,2,6\n",
    "            6 4,7,4,7,8\n",
    "            8 2,6,4,8,6\n",
    "            10 2,4,3,3,2\n",
    "'''"
   ]
  },
  {
   "cell_type": "code",
   "execution_count": null,
   "metadata": {},
   "outputs": [],
   "source": [
    "import matplotlib.pyplot as plt\n",
    "import numpy as np\n",
    "import sys\n",
    "\n",
    "from data_log import get_logger\n",
    "\n",
    "lg = get_logger(name=\"(program_11)\", file_name=\"data_log.log\")"
   ]
  },
  {
   "cell_type": "code",
   "execution_count": null,
   "metadata": {},
   "outputs": [],
   "source": [
    "class BarChart:\n",
    "    \"\"\"\n",
    "    class to perform bar chart representation using matplotlib\n",
    "    \"\"\"\n",
    "\n",
    "    def display_barchart(self):\n",
    "        \"\"\"\n",
    "        Description:\n",
    "             This function is used to create bar plot from a DataFrame\n",
    "        Parameter:\n",
    "            None\n",
    "        Return:\n",
    "            Returns None\n",
    "        \"\"\"\n",
    "        try:\n",
    "            data = np.array([[2, 4, 6, 8, 10], [4, 2, 4, 2, 2], [8, 3, 7, 6, 4], [5, 4, 4, 4, 3], [6, 6, 8, 6, 2]])\n",
    "\n",
    "            # arrange all data in a Data Frame, here\n",
    "            data_frame = pd.DataFrame(data, columns=['a', 'b', 'c', 'd', 'e'], index=[\n",
    "                \"Delhi\", 'Mumbai', 'Hyderabad', 'Pune', 'Bengaluru'])\n",
    "\n",
    "            # kind check , which type of graph, kind='bar'-> specify vertical bar (by default)\n",
    "            data_frame.plot(kind='bar')\n",
    "\n",
    "            # To display graph\n",
    "            plt.show()\n",
    "\n",
    "        except Exception:\n",
    "            exception_type, _, exception_traceback = sys.exc_info()\n",
    "            line_number = exception_traceback.tb_lineno\n",
    "            lg.exception(\n",
    "                f\"Exception type : {exception_type} \\nError on line number : {line_number}\")"
   ]
  },
  {
   "cell_type": "code",
   "execution_count": null,
   "metadata": {},
   "outputs": [],
   "source": [
    "def main():   \n",
    "    np_obj = BarChart()\n",
    "    np_obj.display_barchart()\n",
    "\n",
    "if __name__ == \"__main__\":\n",
    "    main()"
   ]
  }
 ],
 "metadata": {
  "kernelspec": {
   "display_name": "Python 3",
   "language": "python",
   "name": "python3"
  },
  "language_info": {
   "name": "python",
   "version": "3.11.0 (main, Oct 24 2022, 18:26:48) [MSC v.1933 64 bit (AMD64)]"
  },
  "orig_nbformat": 4,
  "vscode": {
   "interpreter": {
    "hash": "c261aea317cc0286b3b3261fbba9abdec21eaa57589985bb7a274bf54d6cc0a7"
   }
  }
 },
 "nbformat": 4,
 "nbformat_minor": 2
}
