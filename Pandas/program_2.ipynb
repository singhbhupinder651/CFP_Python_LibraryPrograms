{
 "cells": [
  {
   "cell_type": "code",
   "execution_count": 1,
   "metadata": {},
   "outputs": [],
   "source": [
    "'''\n",
    "    @Author: Bhupinder Singh\n",
    "    @Date: 25-12-2022\n",
    "    @Last Modified by: Bhupinder Singh\n",
    "    @Last Modified date: 25-12-2022\n",
    "    @Title: Write a Python program to convert a Panda module Series to Python list and it's type.\n",
    "'''"
   ]
  },
  {
   "cell_type": "code",
   "execution_count": null,
   "metadata": {},
   "outputs": [],
   "source": [
    "import sys\n",
    "\n",
    "from data_log import get_logger\n",
    "\n",
    "import pandas as pd\n",
    "\n",
    "lg = get_logger(name=\"(program_2)\", file_name=\"data_log.log\")"
   ]
  },
  {
   "cell_type": "code",
   "execution_count": 2,
   "metadata": {},
   "outputs": [],
   "source": [
    "class PandasDataManipulation:\n",
    "\n",
    "    def convert_series_to_list(self, arr_data):\n",
    "        \"\"\"\n",
    "        Description:\n",
    "             This function is used to convert a Panda module Series to Python list and it's type.\n",
    "        Parameter:\n",
    "            arr_data: The arr_data to be checked\n",
    "        Return:\n",
    "            Returns None\n",
    "        \"\"\"\n",
    "        try:\n",
    "            my_series = pd.Series(arr_data)\n",
    "            lg.info(\n",
    "                f\" pandas series: \\n{my_series} and \\ntype: {type(my_series)}\")\n",
    "            lg.info(f\"Convert pandas series to python list: \")\n",
    "            lg.info(\n",
    "                f\" \\npython list: {my_series.to_list()} and \\ntype: {type(my_series.to_list())}\")\n",
    "\n",
    "        except Exception:\n",
    "            exception_type, _, exception_traceback = sys.exc_info()\n",
    "            line_number = exception_traceback.tb_lineno\n",
    "            lg.exception(\n",
    "                f\"Exception type : {exception_type} \\nError on line number : {line_number}\")"
   ]
  },
  {
   "cell_type": "code",
   "execution_count": 3,
   "metadata": {},
   "outputs": [
    {
     "name": "stderr",
     "output_type": "stream",
     "text": [
      "(program_2) - 2022-12-27 11:29:58,468 - INFO -  pandas series: \n",
      "0     2\n",
      "1     4\n",
      "2     6\n",
      "3     8\n",
      "4    10\n",
      "dtype: int64 and \n",
      "type: <class 'pandas.core.series.Series'>\n",
      "(program_2) - 2022-12-27 11:29:58,472 - INFO - Convert pandas series to python list: \n",
      "(program_2) - 2022-12-27 11:29:58,472 - INFO -  \n",
      "python list: [2, 4, 6, 8, 10] and \n",
      "type: <class 'list'>\n"
     ]
    }
   ],
   "source": [
    "if __name__ == \"__main__\":\n",
    "    arr_data = [2, 4, 6, 8, 10]\n",
    "    pd_obj = PandasDataManipulation()\n",
    "    pd_obj.convert_series_to_list(arr_data)"
   ]
  }
 ],
 "metadata": {
  "kernelspec": {
   "display_name": "Python 3",
   "language": "python",
   "name": "python3"
  },
  "language_info": {
   "codemirror_mode": {
    "name": "ipython",
    "version": 3
   },
   "file_extension": ".py",
   "mimetype": "text/x-python",
   "name": "python",
   "nbconvert_exporter": "python",
   "pygments_lexer": "ipython3",
   "version": "3.11.0 (main, Oct 24 2022, 18:26:48) [MSC v.1933 64 bit (AMD64)]"
  },
  "orig_nbformat": 4,
  "vscode": {
   "interpreter": {
    "hash": "c261aea317cc0286b3b3261fbba9abdec21eaa57589985bb7a274bf54d6cc0a7"
   }
  }
 },
 "nbformat": 4,
 "nbformat_minor": 2
}
