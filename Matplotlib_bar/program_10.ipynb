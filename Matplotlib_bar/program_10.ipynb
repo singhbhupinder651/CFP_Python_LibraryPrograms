{
 "cells": [
  {
   "cell_type": "code",
   "execution_count": 5,
   "metadata": {},
   "outputs": [
    {
     "data": {
      "text/plain": [
       "'\\n    @Author: Bhupinder Singh\\n    @Date: 27-12-2022\\n    @Last Modified by: Bhupinder Singh\\n    @Last Modified date: 27-12-2022\\n    @Title: Write a Python program to create bar plot of scores by group and gender. Use multiple X\\n            values on the same chart for men and women.\\n            Sample Data:\\n            Means (men) = (22, 30, 35, 35, 26)\\n            Means (women) = (25, 32, 30, 35, 29)\\n'"
      ]
     },
     "execution_count": 5,
     "metadata": {},
     "output_type": "execute_result"
    }
   ],
   "source": [
    "'''\n",
    "    @Author: Bhupinder Singh\n",
    "    @Date: 27-12-2022\n",
    "    @Last Modified by: Bhupinder Singh\n",
    "    @Last Modified date: 27-12-2022\n",
    "    @Title: Write a Python program to create bar plot of scores by group and gender. Use multiple X\n",
    "            values on the same chart for men and women.\n",
    "            Sample Data:\n",
    "            Means (men) = (22, 30, 35, 35, 26)\n",
    "            Means (women) = (25, 32, 30, 35, 29)\n",
    "'''"
   ]
  },
  {
   "cell_type": "code",
   "execution_count": 6,
   "metadata": {},
   "outputs": [],
   "source": [
    "import matplotlib.pyplot as plt\n",
    "import numpy as np\n",
    "import sys\n",
    "\n",
    "from data_log import get_logger\n",
    "\n",
    "lg = get_logger(name=\"(program_10)\", file_name=\"data_log.log\")"
   ]
  },
  {
   "cell_type": "code",
   "execution_count": 7,
   "metadata": {},
   "outputs": [],
   "source": [
    "class BarChart:\n",
    "    \"\"\"\n",
    "    class to perform bar chart representation using matplotlib\n",
    "    \"\"\"\n",
    "\n",
    "    def display_barchart(self):\n",
    "        \"\"\"\n",
    "        Description:\n",
    "             This function is used to display a bar chart of the popularity of programming Languages\n",
    "        Parameter:\n",
    "            None\n",
    "        Return:\n",
    "            Returns None\n",
    "        \"\"\"\n",
    "        try:\n",
    "            men = (22, 30, 35, 35, 26)\n",
    "            women = (25, 32, 30, 35, 29)\n",
    "            n_groups = 5\n",
    "\n",
    "            index = np.arange(n_groups)\n",
    "            bar_width = 0.35\n",
    "\n",
    "            # plotting men means values to create bar chart\n",
    "            plt.bar(index, men, bar_width, color='g', label='Men')\n",
    "\n",
    "            # plotting women means values to create bar chart before men\n",
    "            plt.bar(index + bar_width, women, bar_width, color='r', label='Women')\n",
    "\n",
    "            # Set the x-axis label\n",
    "            plt.xlabel('Person')\n",
    "\n",
    "            # Set the y-axis label\n",
    "            plt.ylabel('Scores')\n",
    "\n",
    "            # Sets a title\n",
    "            plt.title('scores by group and gender')\n",
    "\n",
    "            # group label\n",
    "            plt.xticks(index + bar_width / 2, ('G1', 'G2', 'G3', 'G4', 'G5'))\n",
    "\n",
    "            # show a legend on the plot\n",
    "            plt.legend()\n",
    "\n",
    "            # Display a figure.\n",
    "            plt.show()\n",
    "\n",
    "        except Exception:\n",
    "            exception_type, _, exception_traceback = sys.exc_info()\n",
    "            line_number = exception_traceback.tb_lineno\n",
    "            lg.exception(\n",
    "                f\"Exception type : {exception_type} \\nError on line number : {line_number}\")"
   ]
  },
  {
   "cell_type": "code",
   "execution_count": 8,
   "metadata": {},
   "outputs": [
    {
     "data": {
      "image/png": "[encoded data removed]",
      "text/plain": [
       "<Figure size 640x480 with 1 Axes>"
      ]
     },
     "metadata": {},
     "output_type": "display_data"
    }
   ],
   "source": [
    "def main():   \n",
    "    np_obj = BarChart()\n",
    "    np_obj.display_barchart()\n",
    "\n",
    "if __name__ == \"__main__\":\n",
    "    main()\n"
   ]
  }
 ],
 "metadata": {
  "kernelspec": {
   "display_name": "Python 3",
   "language": "python",
   "name": "python3"
  },
  "language_info": {
   "codemirror_mode": {
    "name": "ipython",
    "version": 3
   },
   "file_extension": ".py",
   "mimetype": "text/x-python",
   "name": "python",
   "nbconvert_exporter": "python",
   "pygments_lexer": "ipython3",
   "version": "3.11.0 (main, Oct 24 2022, 18:26:48) [MSC v.1933 64 bit (AMD64)]"
  },
  "orig_nbformat": 4,
  "vscode": {
   "interpreter": {
    "hash": "c261aea317cc0286b3b3261fbba9abdec21eaa57589985bb7a274bf54d6cc0a7"
   }
  }
 },
 "nbformat": 4,
 "nbformat_minor": 2
}
