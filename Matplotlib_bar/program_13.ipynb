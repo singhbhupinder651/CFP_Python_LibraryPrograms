{
 "cells": [
  {
   "cell_type": "code",
   "execution_count": 13,
   "metadata": {},
   "outputs": [
    {
     "data": {
      "text/plain": [
       "'\\n    @Author: Bhupinder Singh\\n    @Date: 27-12-2022\\n    @Last Modified by: Bhupinder Singh\\n    @Last Modified date: 27-12-2022\\n    @Title: Write a Python program to create bar plots with errorbars on the same figure. Attach a text\\n            label above each bar displaying men means (integer value).\\n            Sample Data\\n            Mean velocity: 54.74, 42.35, 67.37, 58.24, 30.25\\n            Standard deviation of velocity: 4, 3, 4, 1, 5\\n'"
      ]
     },
     "execution_count": 13,
     "metadata": {},
     "output_type": "execute_result"
    }
   ],
   "source": [
    "'''\n",
    "    @Author: Bhupinder Singh\n",
    "    @Date: 27-12-2022\n",
    "    @Last Modified by: Bhupinder Singh\n",
    "    @Last Modified date: 27-12-2022\n",
    "    @Title: Write a Python program to create bar plots with errorbars on the same figure. Attach a text\n",
    "            label above each bar displaying men means (integer value).\n",
    "            Sample Data\n",
    "            Mean velocity: 54.74, 42.35, 67.37, 58.24, 30.25\n",
    "            Standard deviation of velocity: 4, 3, 4, 1, 52\n",
    "'''"
   ]
  },
  {
   "cell_type": "code",
   "execution_count": 14,
   "metadata": {},
   "outputs": [],
   "source": [
    "import matplotlib.pyplot as plt\n",
    "import numpy as np\n",
    "import sys\n",
    "\n",
    "from data_log import get_logger\n",
    "\n",
    "lg = get_logger(name=\"(program_13)\", file_name=\"data_log.log\")\n"
   ]
  },
  {
   "cell_type": "code",
   "execution_count": 15,
   "metadata": {},
   "outputs": [],
   "source": [
    "class BarChart:\n",
    "    \"\"\"\n",
    "    class to perform bar chart representation using matplotlib\n",
    "    \"\"\"\n",
    "\n",
    "    def display_barchart(self):\n",
    "        \"\"\"\n",
    "        Description:\n",
    "             This function is used to ddisplay scores by velocity,error bar\n",
    "        Parameter:\n",
    "            None\n",
    "        Return:\n",
    "            Returns None\n",
    "        \"\"\"\n",
    "        try:\n",
    "            n = 5\n",
    "            men_means = (54.74, 42.35, 67.37, 58.24, 30.25)\n",
    "            men_std = (4, 3, 4, 1, 5)\n",
    "\n",
    "            ind = np.arange(n)  # the x locations for the groups\n",
    "            width = 0.35  # the width of the bars\n",
    "\n",
    "            fig, ax = plt.subplots()\n",
    "            rects = ax.bar(ind, men_means, width, color='r', yerr=men_std)\n",
    "\n",
    "            # add some text for labels, title and axes ticks\n",
    "            plt.ylabel('Scores')\n",
    "            plt.xlabel('Velocity')\n",
    "            plt.title('Scores by Velocity')\n",
    "\n",
    "            # Attach a text label above each bar displaying its height\n",
    "            for rect in rects:\n",
    "                height = rect.get_height()\n",
    "                ax.text(rect.get_x() + rect.get_width() / 2., 1.05 * height,\n",
    "                        '%d' % int(height),\n",
    "                        ha='center', va='bottom')\n",
    "            plt.show()\n",
    "\n",
    "        except Exception:\n",
    "            exception_type, _, exception_traceback = sys.exc_info()\n",
    "            line_number = exception_traceback.tb_lineno\n",
    "            lg.exception(\n",
    "                f\"Exception type : {exception_type} \\nError on line number : {line_number}\")"
   ]
  },
  {
   "cell_type": "code",
   "execution_count": 16,
   "metadata": {},
   "outputs": [
    {
     "data": {
      "image/png": "[encoded data removed]",
      "text/plain": [
       "<Figure size 640x480 with 1 Axes>"
      ]
     },
     "metadata": {},
     "output_type": "display_data"
    }
   ],
   "source": [
    "def main():   \n",
    "    np_obj = BarChart()\n",
    "    np_obj.display_barchart()\n",
    "\n",
    "if __name__ == \"__main__\":\n",
    "    main()"
   ]
  }
 ],
 "metadata": {
  "kernelspec": {
   "display_name": "Python 3",
   "language": "python",
   "name": "python3"
  },
  "language_info": {
   "codemirror_mode": {
    "name": "ipython",
    "version": 3
   },
   "file_extension": ".py",
   "mimetype": "text/x-python",
   "name": "python",
   "nbconvert_exporter": "python",
   "pygments_lexer": "ipython3",
   "version": "3.11.0 (main, Oct 24 2022, 18:26:48) [MSC v.1933 64 bit (AMD64)]"
  },
  "orig_nbformat": 4,
  "vscode": {
   "interpreter": {
    "hash": "c261aea317cc0286b3b3261fbba9abdec21eaa57589985bb7a274bf54d6cc0a7"
   }
  }
 },
 "nbformat": 4,
 "nbformat_minor": 2
}
