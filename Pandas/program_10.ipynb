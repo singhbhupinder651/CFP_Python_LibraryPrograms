{
 "cells": [
  {
   "cell_type": "code",
   "execution_count": 1,
   "metadata": {},
   "outputs": [],
   "source": [
    "'''\n",
    "    @Author: Bhupinder Singh\n",
    "    @Date: 25-12-2022\n",
    "    @Last Modified by: Bhupinder Singh\n",
    "    @Last Modified date: 25-12-2022\n",
    "    @Title: Write a Python program to select the rows where the number of attempts in the\n",
    "            examination is greater than 2.\n",
    "            exam_data = {'name': ['Anastasia', 'Dima', 'Katherine', 'James', 'Emily', 'Michael', 'Matthew',\n",
    "            'Laura', 'Kevin', 'Jonas'],\n",
    "            'score': [12.5, 9, 16.5, np.nan, 9, 20, 14.5, np.nan, 8, 19],\n",
    "            'attempts': [1, 3, 2, 3, 2, 3, 1, 1, 2, 1],\n",
    "            'qualify': ['yes', 'no', 'yes', 'no', 'no', 'yes', 'yes', 'no', 'no', 'yes']}\n",
    "            labels = ['a', 'b', 'c', 'd', 'e', 'f', 'g', 'h', 'i', 'j']\n",
    "\n",
    "\n",
    "'''\n",
    "import sys\n",
    "\n",
    "from data_log import get_logger\n",
    "\n",
    "import numpy as np\n",
    "import pandas as pd\n",
    "\n",
    "lg = get_logger(name=\"(program_10)\", file_name=\"data_log.log\")"
   ]
  },
  {
   "cell_type": "code",
   "execution_count": 4,
   "metadata": {},
   "outputs": [],
   "source": [
    "class PandasDataManipulation:\n",
    "\n",
    "    def attempts_greater_than_two(self, exam_data, labels):\n",
    "        \"\"\"\n",
    "        Description:\n",
    "            This function is used to display the rows where the number of attempts in the\n",
    "            examination is greater than 2.\n",
    "        Parameter:\n",
    "            exam_data and labels: The exam_data and labels to be checked\n",
    "        Return:\n",
    "            Returns None\n",
    "        \"\"\"\n",
    "        try:\n",
    "            data_frame = pd.DataFrame(exam_data, index=labels)\n",
    "            lg.info(\n",
    "                f\" Number of attempts in the examination is greater than 2: \\n{data_frame[data_frame['attempts']>2]}\")\n",
    "        except Exception:\n",
    "            exception_type, _, exception_traceback = sys.exc_info()\n",
    "            line_number = exception_traceback.tb_lineno\n",
    "            lg.exception(\n",
    "                f\"Exception type : {exception_type} \\nError on line number : {line_number}\")"
   ]
  },
  {
   "cell_type": "code",
   "execution_count": 5,
   "metadata": {},
   "outputs": [
    {
     "name": "stderr",
     "output_type": "stream",
     "text": [
      "(program_10) - 2022-12-31 13:27:13,386 - INFO -  Number of attempts in the examination is greater than 2: \n",
      "      name  score  attempts qualify\n",
      "b     Dima    9.0         3      no\n",
      "d    James    NaN         3      no\n",
      "f  Michael   20.0         3     yes\n"
     ]
    }
   ],
   "source": [
    "if __name__ == \"__main__\":\n",
    "    exam_data = {'name': ['Anastasia', 'Dima', 'Katherine', 'James', 'Emily', 'Michael',\n",
    "                          'Matthew', 'Laura', 'Kevin', 'Jonas'],\n",
    "                 'score': [12.5, 9, 16.5, np.nan, 9, 20, 14.5, np.nan, 8, 19],\n",
    "                 'attempts': [1, 3, 2, 3, 2, 3, 1, 1, 2, 1],\n",
    "                 'qualify': ['yes', 'no', 'yes', 'no', 'no', 'yes', 'yes', 'no', 'no', 'yes']}\n",
    "    labels = ['a', 'b', 'c', 'd', 'e', 'f', 'g', 'h', 'i', 'j']\n",
    "    pd_obj = PandasDataManipulation()\n",
    "    pd_obj.attempts_greater_than_two(exam_data, labels)"
   ]
  }
 ],
 "metadata": {
  "kernelspec": {
   "display_name": "Python 3",
   "language": "python",
   "name": "python3"
  },
  "language_info": {
   "codemirror_mode": {
    "name": "ipython",
    "version": 3
   },
   "file_extension": ".py",
   "mimetype": "text/x-python",
   "name": "python",
   "nbconvert_exporter": "python",
   "pygments_lexer": "ipython3",
   "version": "3.11.0"
  },
  "orig_nbformat": 4,
  "vscode": {
   "interpreter": {
    "hash": "c261aea317cc0286b3b3261fbba9abdec21eaa57589985bb7a274bf54d6cc0a7"
   }
  }
 },
 "nbformat": 4,
 "nbformat_minor": 2
}
