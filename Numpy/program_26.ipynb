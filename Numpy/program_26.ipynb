{
 "cells": [
  {
   "cell_type": "code",
   "execution_count": null,
   "metadata": {},
   "outputs": [],
   "source": [
    "'''\n",
    "    @Author: Bhupinder Singh\n",
    "    @Date: 25-12-2022\n",
    "    @Last Modified by: Bhupinder Singh\n",
    "    @Last Modified date: 25-12-2022\n",
    "    @Title: Write a Python program to how to add an extra column to an numpy array.\n",
    "            Expected Output:\n",
    "            [[ 10 20 30 100]\n",
    "            [ 40 50 60 200]]\n",
    "'''\n",
    "import sys\n",
    "\n",
    "from data_log import get_logger\n",
    "\n",
    "import numpy as np\n",
    "\n",
    "lg = get_logger(name=\"(program_26)\", file_name=\"data_log.log\")"
   ]
  },
  {
   "cell_type": "code",
   "execution_count": null,
   "metadata": {},
   "outputs": [],
   "source": [
    "class NumericalPython:\n",
    "\n",
    "    def add_column(self, arr1, arr2):\n",
    "        \"\"\"\n",
    "        Description:\n",
    "             This function is used to add an extra column to an numpy array\n",
    "        Parameter:\n",
    "            arr1, arr2: The arr1 and arr2 to be checked\n",
    "        Return:\n",
    "            Returns None\n",
    "        \"\"\"\n",
    "        try:\n",
    "            my_array1 = np.array(arr1)\n",
    "            my_array2 = np.array(arr2)\n",
    "            result_array = np.append(my_array1, my_array2, axis=1)\n",
    "            lg.info(f'final array: \\n{result_array}')\n",
    "        except Exception:\n",
    "            exception_type, _, exception_traceback = sys.exc_info()\n",
    "            line_number = exception_traceback.tb_lineno\n",
    "            lg.exception(\n",
    "                f\"Exception type : {exception_type} \\nError on line number : {line_number}\")"
   ]
  },
  {
   "cell_type": "code",
   "execution_count": null,
   "metadata": {},
   "outputs": [],
   "source": [
    "if __name__ == \"__main__\":\n",
    "    array_1 = [[0, 1, 3], [5, 7, 9]]\n",
    "    array_2 = [[10], [20]]\n",
    "    np_obj = NumericalPython()\n",
    "    np_obj.add_column(array_1, array_2)"
   ]
  }
 ],
 "metadata": {
  "kernelspec": {
   "display_name": "Python 3",
   "language": "python",
   "name": "python3"
  },
  "language_info": {
   "name": "python",
   "version": "3.11.0 (main, Oct 24 2022, 18:26:48) [MSC v.1933 64 bit (AMD64)]"
  },
  "orig_nbformat": 4,
  "vscode": {
   "interpreter": {
    "hash": "c261aea317cc0286b3b3261fbba9abdec21eaa57589985bb7a274bf54d6cc0a7"
   }
  }
 },
 "nbformat": 4,
 "nbformat_minor": 2
}
