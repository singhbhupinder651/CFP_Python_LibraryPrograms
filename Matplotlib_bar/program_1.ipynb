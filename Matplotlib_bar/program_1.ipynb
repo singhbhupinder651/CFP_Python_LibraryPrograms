{
 "cells": [
  {
   "cell_type": "code",
   "execution_count": 7,
   "metadata": {},
   "outputs": [
    {
     "data": {
      "text/plain": [
       "'\\n    @Author: Bhupinder Singh\\n    @Date: 27-12-2022\\n    @Last Modified by: Bhupinder Singh\\n    @Last Modified date: 27-12-2022\\n    @Title: Write a Python programming to display a bar chart of the popularity of programming Languages.\\n            Sample data:\\n            Programming languages: Java, Python, PHP, JavaScript, C#, C++\\n            Popularity: 22.2, 17.6, 8.8, 8, 7.7, 6.7\\n'"
      ]
     },
     "execution_count": 7,
     "metadata": {},
     "output_type": "execute_result"
    }
   ],
   "source": [
    "'''\n",
    "    @Author: Bhupinder Singh\n",
    "    @Date: 27-12-2022\n",
    "    @Last Modified by: Bhupinder Singh\n",
    "    @Last Modified date: 27-12-2022\n",
    "    @Title: Write a Python programming to display a bar chart of the popularity of programming Languages.\n",
    "            Sample data:\n",
    "            Programming languages: Java, Python, PHP, JavaScript, C#, C++\n",
    "            Popularity: 22.2, 17.6, 8.8, 8, 7.7, 6.7\n",
    "'''"
   ]
  },
  {
   "cell_type": "code",
   "execution_count": 8,
   "metadata": {},
   "outputs": [],
   "source": [
    "import matplotlib.pyplot as plt\n",
    "import sys\n",
    "\n",
    "from data_log import get_logger\n",
    "\n",
    "lg = get_logger(name=\"(program_1)\", file_name=\"data_log.log\")"
   ]
  },
  {
   "cell_type": "code",
   "execution_count": 9,
   "metadata": {},
   "outputs": [],
   "source": [
    "class BarChart:\n",
    "    \"\"\"\n",
    "    class to perform bar chart representation using matplotlib\n",
    "    \"\"\"\n",
    "\n",
    "    def display_barchart(self):\n",
    "        \"\"\"\n",
    "        Description:\n",
    "             This function is used to display a bar chart of the popularity of programming Languages\n",
    "        Parameter:\n",
    "            None\n",
    "        Return:\n",
    "            Returns None\n",
    "        \"\"\"\n",
    "        try:\n",
    "            prg_lang = ['Java', 'Python', 'PHP', 'JavaScript', 'C#', 'C++']\n",
    "            popularity = [22.2, 17.6, 8.8, 8, 7.7, 6.7]\n",
    "\n",
    "            # plotting x and y-axis values to create bar chart\n",
    "            plt.bar(prg_lang, popularity)\n",
    "\n",
    "            # Set the x-axis label\n",
    "            plt.xlabel(\"Languages\")\n",
    "\n",
    "            # Set the y-axis label\n",
    "            plt.ylabel(\"Popularity\")\n",
    "\n",
    "            # Sets a title\n",
    "            plt.title(\"Popularity of Programming Languages\")\n",
    "\n",
    "            # To display graph\n",
    "            plt.show()\n",
    "\n",
    "        except Exception:\n",
    "            exception_type, _, exception_traceback = sys.exc_info()\n",
    "            line_number = exception_traceback.tb_lineno\n",
    "            lg.exception(\n",
    "                f\"Exception type : {exception_type} \\nError on line number : {line_number}\")"
   ]
  },
  {
   "cell_type": "code",
   "execution_count": 10,
   "metadata": {},
   "outputs": [],
   "source": [
    "def main():\n",
    "    \n",
    "    np_obj = BarChart()\n",
    "    np_obj.display_barchart()"
   ]
  },
  {
   "cell_type": "code",
   "execution_count": 11,
   "metadata": {},
   "outputs": [
    {
     "data": {
      "image/png": "[encoded data removed]",
      "text/plain": [
       "<Figure size 640x480 with 1 Axes>"
      ]
     },
     "metadata": {},
     "output_type": "display_data"
    }
   ],
   "source": [
    "if __name__ == \"__main__\":\n",
    "    main()  "
   ]
  }
 ],
 "metadata": {
  "kernelspec": {
   "display_name": "Python 3",
   "language": "python",
   "name": "python3"
  },
  "language_info": {
   "codemirror_mode": {
    "name": "ipython",
    "version": 3
   },
   "file_extension": ".py",
   "mimetype": "text/x-python",
   "name": "python",
   "nbconvert_exporter": "python",
   "pygments_lexer": "ipython3",
   "version": "3.11.0"
  },
  "orig_nbformat": 4,
  "vscode": {
   "interpreter": {
    "hash": "c261aea317cc0286b3b3261fbba9abdec21eaa57589985bb7a274bf54d6cc0a7"
   }
  }
 },
 "nbformat": 4,
 "nbformat_minor": 2
}
