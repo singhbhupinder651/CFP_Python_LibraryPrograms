{
 "cells": [
  {
   "cell_type": "code",
   "execution_count": 5,
   "metadata": {},
   "outputs": [
    {
     "data": {
      "text/plain": [
       "'\\n    @Author: Bhupinder Singh\\n    @Date: 27-12-2022\\n    @Last Modified by: Bhupinder Singh\\n    @Last Modified date: 27-12-2022\\n    @Title: Write a Python program to create bar plots with error bars on the same figure. \\n            Sample Data\\n            Mean velocity: 54.74, 42.35, 67.37, 58.24, 30.25\\n            Standard deviation of velocity: 4, 3, 4, 1, 5\\n            '"
      ]
     },
     "execution_count": 5,
     "metadata": {},
     "output_type": "execute_result"
    }
   ],
   "source": [
    "'''\n",
    "    @Author: Bhupinder Singh\n",
    "    @Date: 27-12-2022\n",
    "    @Last Modified by: Bhupinder Singh\n",
    "    @Last Modified date: 27-12-2022\n",
    "    @Title: Write a Python program to create bar plots with error bars on the same figure. \n",
    "            Sample Data\n",
    "            Mean velocity: 54.74, 42.35, 67.37, 58.24, 30.25\n",
    "            Standard deviation of velocity: 4, 3, 4, 1, 5\n",
    "            '''"
   ]
  },
  {
   "cell_type": "code",
   "execution_count": 6,
   "metadata": {},
   "outputs": [],
   "source": [
    "import matplotlib.pyplot as plt\n",
    "import numpy as np\n",
    "import sys\n",
    "\n",
    "from data_log import get_logger\n",
    "\n",
    "lg = get_logger(name=\"(program_12)\", file_name=\"data_log.log\")"
   ]
  },
  {
   "cell_type": "code",
   "execution_count": 7,
   "metadata": {},
   "outputs": [],
   "source": [
    "class BarChart:\n",
    "    \"\"\"\n",
    "    class to perform bar chart representation using matplotlib\n",
    "    \"\"\"\n",
    "\n",
    "    def display_barchart(self):\n",
    "        \"\"\"\n",
    "        Description:\n",
    "             This function is used to display scores by velocity,error bar\n",
    "        Parameter:\n",
    "            None\n",
    "        Return:\n",
    "            Returns None\n",
    "        \"\"\"\n",
    "        try:\n",
    "            n = 5\n",
    "            men_means = (54.74, 42.35, 67.37, 58.24, 30.25)\n",
    "            men_std = (4, 3, 4, 1, 5)\n",
    "\n",
    "            # the x locations for the groups\n",
    "            ind = np.arange(n)\n",
    "\n",
    "            # the width of the bars\n",
    "            width = 0.35\n",
    "\n",
    "            # x(as ind), y(menMeans) define the data locations, yerr define the errorbar sizes.\n",
    "            plt.bar(ind, men_means, width, yerr=men_std, color='blue')\n",
    "\n",
    "            # put x and y axis label\n",
    "            plt.ylabel('Scores')\n",
    "            plt.xlabel('Velocity')\n",
    "\n",
    "            # set graph title\n",
    "            plt.title('Scores by Velocity, Error Bar')\n",
    "\n",
    "            plt.show()\n",
    "\n",
    "        except Exception:\n",
    "            exception_type, _, exception_traceback = sys.exc_info()\n",
    "            line_number = exception_traceback.tb_lineno\n",
    "            lg.exception(\n",
    "                f\"Exception type : {exception_type} \\nError on line number : {line_number}\")"
   ]
  },
  {
   "cell_type": "code",
   "execution_count": 8,
   "metadata": {},
   "outputs": [
    {
     "data": {
      "image/png": "[encoded data removed]",
      "text/plain": [
       "<Figure size 640x480 with 1 Axes>"
      ]
     },
     "metadata": {},
     "output_type": "display_data"
    }
   ],
   "source": [
    "def main():   \n",
    "    np_obj = BarChart()\n",
    "    np_obj.display_barchart()\n",
    "\n",
    "if __name__ == \"__main__\":\n",
    "    main()"
   ]
  }
 ],
 "metadata": {
  "kernelspec": {
   "display_name": "Python 3",
   "language": "python",
   "name": "python3"
  },
  "language_info": {
   "codemirror_mode": {
    "name": "ipython",
    "version": 3
   },
   "file_extension": ".py",
   "mimetype": "text/x-python",
   "name": "python",
   "nbconvert_exporter": "python",
   "pygments_lexer": "ipython3",
   "version": "3.11.0"
  },
  "orig_nbformat": 4,
  "vscode": {
   "interpreter": {
    "hash": "c261aea317cc0286b3b3261fbba9abdec21eaa57589985bb7a274bf54d6cc0a7"
   }
  }
 },
 "nbformat": 4,
 "nbformat_minor": 2
}
