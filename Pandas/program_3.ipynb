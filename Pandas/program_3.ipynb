{
 "cells": [
  {
   "cell_type": "code",
   "execution_count": 1,
   "metadata": {},
   "outputs": [],
   "source": [
    "'''\n",
    "    @Author: Bhupinder Singh\n",
    "    @Date: 25-12-2022\n",
    "    @Last Modified by: Bhupinder Singh\n",
    "    @Last Modified date: 25-12-2022\n",
    "    @Title: Write a Python program to add, subtract, multiple and divide two Pandas Series.\n",
    "            Sample Series: [2, 4, 6, 8, 10], [1, 3, 5, 7, 9]\n",
    "'''\n",
    "\n",
    "import sys\n",
    "\n",
    "from data_log import get_logger\n",
    "\n",
    "import pandas as pd\n",
    "\n",
    "lg = get_logger(name=\"(program_3)\", file_name=\"data_log.log\")"
   ]
  },
  {
   "cell_type": "code",
   "execution_count": 2,
   "metadata": {},
   "outputs": [],
   "source": [
    "class PandasDataManipulation:\n",
    "\n",
    "    def calculator(self, arr_data1, arr_data2):\n",
    "        \"\"\"\n",
    "        Description:\n",
    "             This function is used to add, subtract, multiple and divide two Pandas Series.\n",
    "        Parameter:\n",
    "            arr_data1 and arr_data2: The arr_data1 and arr_data2 to be checked\n",
    "        Return:\n",
    "            Returns None\n",
    "        \"\"\"\n",
    "        try:\n",
    "            my_series1 = pd.Series(arr_data1)\n",
    "            my_series2 = pd.Series(arr_data2)\n",
    "            add_series = my_series1 + my_series2\n",
    "            lg.info(f\" adding two series: \\n{add_series}\")\n",
    "            substract_series = my_series1 - my_series2\n",
    "            lg.info(f\" substract two series: \\n{substract_series}\")\n",
    "            multiply_series = my_series1 * my_series2\n",
    "            lg.info(f\" multiply two series: \\n{multiply_series}\")\n",
    "            divide_series = my_series1 / my_series2\n",
    "            lg.info(f\" divide two series: \\n{divide_series}\")\n",
    "\n",
    "        except Exception:\n",
    "            exception_type, _, exception_traceback = sys.exc_info()\n",
    "            line_number = exception_traceback.tb_lineno\n",
    "            lg.exception(\n",
    "                f\"Exception type : {exception_type} \\nError on line number : {line_number}\")\n"
   ]
  },
  {
   "cell_type": "code",
   "execution_count": 3,
   "metadata": {},
   "outputs": [
    {
     "name": "stderr",
     "output_type": "stream",
     "text": [
      "(program_3) - 2022-12-26 15:33:39,570 - INFO -  adding two series: \n",
      "0     3\n",
      "1     7\n",
      "2    11\n",
      "3    15\n",
      "4    19\n",
      "dtype: int64\n",
      "(program_3) - 2022-12-26 15:33:39,572 - INFO -  substract two series: \n",
      "0    1\n",
      "1    1\n",
      "2    1\n",
      "3    1\n",
      "4    1\n",
      "dtype: int64\n",
      "(program_3) - 2022-12-26 15:33:39,573 - INFO -  multiply two series: \n",
      "0     2\n",
      "1    12\n",
      "2    30\n",
      "3    56\n",
      "4    90\n",
      "dtype: int64\n",
      "(program_3) - 2022-12-26 15:33:39,577 - INFO -  divide two series: \n",
      "0    2.000000\n",
      "1    1.333333\n",
      "2    1.200000\n",
      "3    1.142857\n",
      "4    1.111111\n",
      "dtype: float64\n"
     ]
    }
   ],
   "source": [
    "if __name__ == \"__main__\":\n",
    "    arr_data1 = [2, 4, 6, 8, 10]\n",
    "    arr_data2 = [1, 3, 5, 7, 9]\n",
    "    pd_obj = PandasDataManipulation()\n",
    "    pd_obj.calculator(arr_data1, arr_data2)"
   ]
  }
 ],
 "metadata": {
  "kernelspec": {
   "display_name": "Python 3",
   "language": "python",
   "name": "python3"
  },
  "language_info": {
   "codemirror_mode": {
    "name": "ipython",
    "version": 3
   },
   "file_extension": ".py",
   "mimetype": "text/x-python",
   "name": "python",
   "nbconvert_exporter": "python",
   "pygments_lexer": "ipython3",
   "version": "3.11.0 (main, Oct 24 2022, 18:26:48) [MSC v.1933 64 bit (AMD64)]"
  },
  "orig_nbformat": 4,
  "vscode": {
   "interpreter": {
    "hash": "c261aea317cc0286b3b3261fbba9abdec21eaa57589985bb7a274bf54d6cc0a7"
   }
  }
 },
 "nbformat": 4,
 "nbformat_minor": 2
}
