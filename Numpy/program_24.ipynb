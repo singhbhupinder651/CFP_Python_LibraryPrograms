{
 "cells": [
  {
   "cell_type": "code",
   "execution_count": null,
   "metadata": {},
   "outputs": [],
   "source": [
    "'''\n",
    "    @Author: Bhupinder Singh\n",
    "    @Date: 25-12-2022\n",
    "    @Last Modified by: Bhupinder Singh\n",
    "    @Last Modified date: 25-12-2022\n",
    "    @Title: Write a python program to display NumPy array elements of floating values with given precision.\n",
    "            Original array elements:\n",
    "            [ 0.26153123 0.52760141 0.5718299 0.5927067 0.7831874 0.69746349\n",
    "            0.35399976 0.99469633 0.0694458 0.54711478]\n",
    "            Print array values with precision 3:\n",
    "            [ 0.262 0.528 0.572 0.593 0.783 0.697 0.354 0.995 0.069 0.547]\n",
    "'''\n",
    "import sys\n",
    "\n",
    "from data_log import get_logger\n",
    "\n",
    "import numpy as np\n",
    "\n",
    "lg = get_logger(name=\"(program_24)\", file_name=\"data_log.log\")"
   ]
  },
  {
   "cell_type": "code",
   "execution_count": null,
   "metadata": {},
   "outputs": [],
   "source": [
    "class NumericalPython:\n",
    "\n",
    "    def display_with_precision(self):\n",
    "        \"\"\"\n",
    "        Description:\n",
    "             This function is used to display NumPy array elements of floating values with given precision\n",
    "        Parameter:\n",
    "            None\n",
    "        Return:\n",
    "            Returns None\n",
    "        \"\"\"\n",
    "        try:\n",
    "            my_array = np.random.rand(10)\n",
    "            lg.info(f\"original array elements: \\n{my_array}\")\n",
    "            np.set_printoptions(precision=3)\n",
    "            lg.info(f\"array values with precision 3: \\n{my_array}\")\n",
    "\n",
    "        except Exception:\n",
    "            exception_type, _, exception_traceback = sys.exc_info()\n",
    "            line_number = exception_traceback.tb_lineno\n",
    "            lg.exception(\n",
    "                f\"Exception type : {exception_type} \\nError on line number : {line_number}\")"
   ]
  },
  {
   "cell_type": "code",
   "execution_count": null,
   "metadata": {},
   "outputs": [],
   "source": [
    "if __name__ == \"__main__\":\n",
    "    np_obj = NumericalPython()\n",
    "    np_obj.display_with_precision()"
   ]
  }
 ],
 "metadata": {
  "kernelspec": {
   "display_name": "Python 3",
   "language": "python",
   "name": "python3"
  },
  "language_info": {
   "name": "python",
   "version": "3.11.0 (main, Oct 24 2022, 18:26:48) [MSC v.1933 64 bit (AMD64)]"
  },
  "orig_nbformat": 4,
  "vscode": {
   "interpreter": {
    "hash": "c261aea317cc0286b3b3261fbba9abdec21eaa57589985bb7a274bf54d6cc0a7"
   }
  }
 },
 "nbformat": 4,
 "nbformat_minor": 2
}
