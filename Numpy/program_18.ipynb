{
 "cells": [
  {
   "cell_type": "code",
   "execution_count": null,
   "metadata": {},
   "outputs": [],
   "source": [
    "'''\n",
    "    @Author: Bhupinder Singh\n",
    "    @Date: 25-12-2022\n",
    "    @Last Modified by: Bhupinder Singh\n",
    "    @Last Modified date: 25-12-2022\n",
    "    @Title: Write a Python program to create a 3-D array with ones on a diagonal and zeros\n",
    "            elsewhere.\n",
    "            Expected Output:\n",
    "            [[ 1. 0. 0.]\n",
    "            [ 0. 1. 0.]\n",
    "            [ 0. 0. 1.]]\n",
    "'''\n",
    "import sys\n",
    "\n",
    "from data_log import get_logger\n",
    "\n",
    "import numpy as np\n",
    "\n",
    "lg = get_logger(name=\"(program_18)\", file_name=\"data_log.log\")"
   ]
  },
  {
   "cell_type": "code",
   "execution_count": null,
   "metadata": {},
   "outputs": [],
   "source": [
    "class NumericalPython:\n",
    "\n",
    "    def identity_matrix(self):\n",
    "        \"\"\"\n",
    "        Description:\n",
    "             This function is used to create a 3-D array with ones on a diagonal and zeros\n",
    "        Parameter:\n",
    "            None\n",
    "        Return:\n",
    "            Returns None\n",
    "        \"\"\"\n",
    "        try:\n",
    "            array_3d = np.eye(3)\n",
    "            lg.info(f'identity matrix: \\n{array_3d}')\n",
    "        except Exception:\n",
    "            exception_type, _, exception_traceback = sys.exc_info()\n",
    "            line_number = exception_traceback.tb_lineno\n",
    "            lg.exception(\n",
    "                f\"Exception type : {exception_type} \\nError on line number : {line_number}\")"
   ]
  },
  {
   "cell_type": "code",
   "execution_count": null,
   "metadata": {},
   "outputs": [],
   "source": [
    "if __name__ == \"__main__\":\n",
    "    np_obj = NumericalPython()\n",
    "    np_obj.identity_matrix()"
   ]
  }
 ],
 "metadata": {
  "kernelspec": {
   "display_name": "Python 3",
   "language": "python",
   "name": "python3"
  },
  "language_info": {
   "name": "python",
   "version": "3.11.0 (main, Oct 24 2022, 18:26:48) [MSC v.1933 64 bit (AMD64)]"
  },
  "orig_nbformat": 4,
  "vscode": {
   "interpreter": {
    "hash": "c261aea317cc0286b3b3261fbba9abdec21eaa57589985bb7a274bf54d6cc0a7"
   }
  }
 },
 "nbformat": 4,
 "nbformat_minor": 2
}
