{
 "cells": [
  {
   "cell_type": "code",
   "execution_count": null,
   "metadata": {},
   "outputs": [],
   "source": [
    "'''\n",
    "    @Author: Bhupinder Singh\n",
    "    @Date: 25-12-2022\n",
    "    @Last Modified by: Bhupinder Singh\n",
    "    @Last Modified date: 25-12-2022\n",
    "    @Title: Write a Python program to convert a list and tuple into arrays.\n",
    "            List to array:\n",
    "            [1 2 3 4 5 6 7 8]\n",
    "            Tuple to array:\n",
    "            [[8 4 6]\n",
    "            [1 2 3]]\n",
    "'''\n",
    "import sys\n",
    "\n",
    "from data_log import get_logger\n",
    "\n",
    "import numpy as np\n",
    "\n",
    "lg = get_logger(name=\"(program_8)\", file_name=\"data_log.log\")"
   ]
  },
  {
   "cell_type": "code",
   "execution_count": null,
   "metadata": {},
   "outputs": [],
   "source": [
    "class NumericalPython:\n",
    "\n",
    "    def convert_to_array(self, my_list, my_tuple):\n",
    "        \"\"\"\n",
    "        Description:\n",
    "             This function is used to convert a list and tuple into arrays\n",
    "        Parameter:\n",
    "            my_list, my_tuple: The my_list and my_tuple to be checked\n",
    "        Return:\n",
    "            Returns None\n",
    "        \"\"\"\n",
    "        try:\n",
    "            list_data = np.asarray(my_list)\n",
    "            lg.info(f\"after converting list to array: \\n{list_data}\")\n",
    "            tuple_data = np.asarray(my_tuple)\n",
    "            lg.info(f\"after converting tuple to array: \\n{tuple_data}\")\n",
    "        except Exception:\n",
    "            exception_type, _, exception_traceback = sys.exc_info()\n",
    "            line_number = exception_traceback.tb_lineno\n",
    "            lg.exception(\n",
    "                f\"Exception type : {exception_type} \\nError on line number : {line_number}\")"
   ]
  },
  {
   "cell_type": "code",
   "execution_count": null,
   "metadata": {},
   "outputs": [],
   "source": [
    "if __name__ == \"__main__\":\n",
    "    my_list = [1, 2, 3, 4, 5, 6, 7, 8]\n",
    "    my_tuple = ([8, 4, 6], [1, 2, 3])\n",
    "    np_obj = NumericalPython()\n",
    "    np_obj.convert_to_array(my_list, my_tuple)"
   ]
  }
 ],
 "metadata": {
  "kernelspec": {
   "display_name": "Python 3",
   "language": "python",
   "name": "python3"
  },
  "language_info": {
   "name": "python",
   "version": "3.11.0 (main, Oct 24 2022, 18:26:48) [MSC v.1933 64 bit (AMD64)]"
  },
  "orig_nbformat": 4,
  "vscode": {
   "interpreter": {
    "hash": "c261aea317cc0286b3b3261fbba9abdec21eaa57589985bb7a274bf54d6cc0a7"
   }
  }
 },
 "nbformat": 4,
 "nbformat_minor": 2
}
