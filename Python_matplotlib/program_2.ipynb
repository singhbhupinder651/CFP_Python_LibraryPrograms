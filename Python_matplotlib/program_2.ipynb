{
 "cells": [
  {
   "cell_type": "code",
   "execution_count": null,
   "metadata": {},
   "outputs": [],
   "source": [
    "'''\n",
    "    @Author: Bhupinder Singh\n",
    "    @Date: 27-12-2022\n",
    "    @Last Modified by: Bhupinder Singh\n",
    "    @Last Modified date: 27-12-2022\n",
    "    @Title: Write a Python program to draw a line using given axis values with suitable label in the x axis, y axis and a title\n",
    "'''"
   ]
  },
  {
   "cell_type": "code",
   "execution_count": null,
   "metadata": {},
   "outputs": [],
   "source": [
    "import matplotlib.pyplot as plt\n",
    "import sys\n",
    "\n",
    "from data_log import get_logger\n",
    "\n",
    "lg = get_logger(name=\"(program_2)\", file_name=\"data_log.log\")"
   ]
  },
  {
   "cell_type": "code",
   "execution_count": null,
   "metadata": {},
   "outputs": [],
   "source": [
    "class DrawLine:\n",
    "    \"\"\"\n",
    "    class to perform graphical representation of data using matplotlib\n",
    "    \"\"\"\n",
    "\n",
    "    def line_plotting(self):\n",
    "        \"\"\"\n",
    "        Description: This function is used to draw a line using given axis values with suitable label in the x axis,\n",
    "        y axis and a title Parameter: None Return: Returns None\n",
    "        \"\"\"\n",
    "        try:\n",
    "            x = [1, 2, 3, 4]\n",
    "            y = [5, 4, 1, 6]\n",
    "            lg.info(f'x range: {x} and y range: {y}')\n",
    "\n",
    "            # plot lines to the axes\n",
    "            plt.plot(x, y)\n",
    "\n",
    "            # set label for axes\n",
    "            plt.xlabel('X axis')\n",
    "            plt.ylabel('y axis')\n",
    "\n",
    "            # title for plotting line\n",
    "            plt.title('Line')\n",
    "\n",
    "            # show the figure\n",
    "            plt.show()\n",
    "\n",
    "        except Exception:\n",
    "            exception_type, _, exception_traceback = sys.exc_info()\n",
    "            line_number = exception_traceback.tb_lineno\n",
    "            lg.exception(\n",
    "                f\"Exception type : {exception_type} \\nError on line number : {line_number}\")"
   ]
  },
  {
   "cell_type": "code",
   "execution_count": null,
   "metadata": {},
   "outputs": [],
   "source": [
    "def main():\n",
    "    \n",
    "    np_obj = DrawLine()\n",
    "    np_obj.line_plotting()"
   ]
  },
  {
   "cell_type": "code",
   "execution_count": null,
   "metadata": {},
   "outputs": [],
   "source": [
    "if __name__ == \"__main__\":\n",
    "    main()"
   ]
  }
 ],
 "metadata": {
  "language_info": {
   "name": "python"
  },
  "orig_nbformat": 4
 },
 "nbformat": 4,
 "nbformat_minor": 2
}
