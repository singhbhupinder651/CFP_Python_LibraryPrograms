{
 "cells": [
  {
   "cell_type": "code",
   "execution_count": 1,
   "metadata": {},
   "outputs": [],
   "source": [
    "'''\n",
    "    @Author: Bhupinder Singh\n",
    "    @Date: 25-12-2022\n",
    "    @Last Modified by: Bhupinder Singh\n",
    "    @Last Modified date: 25-12-2022\n",
    "    @Title: Write a Python program to iterate over rows in a DataFrame\n",
    "'''\n",
    "import sys\n",
    "\n",
    "from data_log import get_logger\n",
    "\n",
    "import pandas as pd\n",
    "\n",
    "lg = get_logger(name=\"(program_22)\", file_name=\"data_log.log\")"
   ]
  },
  {
   "cell_type": "code",
   "execution_count": 2,
   "metadata": {},
   "outputs": [],
   "source": [
    "class PandasDataManipulation:\n",
    "\n",
    "    def iterate_rows(self, exam_data):\n",
    "        \"\"\"\n",
    "        Description:\n",
    "            This function is used to iterate over rows in a DataFrame\n",
    "        Parameter:\n",
    "            exam_data: The exam_data to be checked\n",
    "        Return:\n",
    "            Returns None\n",
    "        \"\"\"\n",
    "        try:\n",
    "            data_frame = pd.DataFrame(exam_data)\n",
    "            for index, row in data_frame.iterrows():\n",
    "                lg.info(f\" name and score: {row['name'], row['score']}\")\n",
    "        except Exception:\n",
    "            exception_type, _, exception_traceback = sys.exc_info()\n",
    "            line_number = exception_traceback.tb_lineno\n",
    "            lg.exception(\n",
    "                f\"Exception type : {exception_type} \\nError on line number : {line_number}\")"
   ]
  },
  {
   "cell_type": "code",
   "execution_count": 3,
   "metadata": {},
   "outputs": [
    {
     "name": "stderr",
     "output_type": "stream",
     "text": [
      "(program_22) - 2022-12-27 12:58:16,778 - INFO -  name and score: ('Anastasia', 12.5)\n",
      "(program_22) - 2022-12-27 12:58:16,778 - INFO -  name and score: ('Dima', 9.0)\n",
      "(program_22) - 2022-12-27 12:58:16,782 - INFO -  name and score: ('Katherine', 16.5)\n"
     ]
    }
   ],
   "source": [
    "if __name__ == \"__main__\":\n",
    "    exam_data = [{'name': 'Anastasia', 'score': 12.5}, {\n",
    "        'name': 'Dima', 'score': 9}, {'name': 'Katherine', 'score': 16.5}]\n",
    "    pd_obj = PandasDataManipulation()\n",
    "    pd_obj.iterate_rows(exam_data)"
   ]
  }
 ],
 "metadata": {
  "kernelspec": {
   "display_name": "Python 3",
   "language": "python",
   "name": "python3"
  },
  "language_info": {
   "codemirror_mode": {
    "name": "ipython",
    "version": 3
   },
   "file_extension": ".py",
   "mimetype": "text/x-python",
   "name": "python",
   "nbconvert_exporter": "python",
   "pygments_lexer": "ipython3",
   "version": "3.11.0"
  },
  "orig_nbformat": 4,
  "vscode": {
   "interpreter": {
    "hash": "c261aea317cc0286b3b3261fbba9abdec21eaa57589985bb7a274bf54d6cc0a7"
   }
  }
 },
 "nbformat": 4,
 "nbformat_minor": 2
}
