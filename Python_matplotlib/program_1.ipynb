{
 "cells": [
  {
   "cell_type": "code",
   "execution_count": null,
   "metadata": {},
   "outputs": [],
   "source": [
    "'''\n",
    "    @Author: Bhupinder Singh\n",
    "    @Date: 27-12-2022\n",
    "    @Last Modified by: Bhupinder Singh\n",
    "    @Last Modified date: 27-12-2022\n",
    "    @Title: Write a Python program to draw a line with suitable label in the x axis, y axis and a title\n",
    "'''"
   ]
  },
  {
   "cell_type": "code",
   "execution_count": null,
   "metadata": {},
   "outputs": [],
   "source": [
    "import matplotlib.pyplot as plt\n",
    "import sys\n",
    "\n",
    "from data_log import get_logger\n",
    "\n",
    "lg = get_logger(name=\"(program_1)\", file_name=\"data_log.log\")"
   ]
  },
  {
   "cell_type": "code",
   "execution_count": null,
   "metadata": {},
   "outputs": [],
   "source": [
    "class DrawLine:\n",
    "    \"\"\"\n",
    "    class to perform graphical representation of data using matplotlib\n",
    "    \"\"\"\n",
    "\n",
    "    def line_plotting(self):\n",
    "        \"\"\"\n",
    "        Description:\n",
    "             This function is used to draw a line with suitable label in the x axis, y axis and a title\n",
    "        Parameter:\n",
    "            None\n",
    "        Return:\n",
    "            Returns None\n",
    "        \"\"\"\n",
    "        try:\n",
    "            x = [0, 1, 2, 3, 4, 5, 6]\n",
    "            y = [value * 3 for value in x]\n",
    "            lg.info(f'x range: {x} and y range: {y}')\n",
    "            # plot lines to the axes\n",
    "            plt.plot(x, y)\n",
    "            # set label for axes\n",
    "            plt.xlabel('X axis')\n",
    "            plt.ylabel('y axis')\n",
    "            # title for plotting line\n",
    "            plt.title('Line')\n",
    "            # show the figure\n",
    "            plt.show()\n",
    "\n",
    "        except Exception:\n",
    "            exception_type, _, exception_traceback = sys.exc_info()\n",
    "            line_number = exception_traceback.tb_lineno\n",
    "            lg.exception(\n",
    "                f\"Exception type : {exception_type} \\nError on line number : {line_number}\")"
   ]
  },
  {
   "cell_type": "code",
   "execution_count": null,
   "metadata": {},
   "outputs": [],
   "source": [
    "def main():\n",
    "    \n",
    "    np_obj = DrawLine()\n",
    "    np_obj.line_plotting()"
   ]
  },
  {
   "cell_type": "code",
   "execution_count": null,
   "metadata": {},
   "outputs": [],
   "source": [
    "if __name__ == \"__main__\":\n",
    "    main()  "
   ]
  }
 ],
 "metadata": {
  "kernelspec": {
   "display_name": "Python 3",
   "language": "python",
   "name": "python3"
  },
  "language_info": {
   "name": "python",
   "version": "3.11.0 (main, Oct 24 2022, 18:26:48) [MSC v.1933 64 bit (AMD64)]"
  },
  "orig_nbformat": 4,
  "vscode": {
   "interpreter": {
    "hash": "c261aea317cc0286b3b3261fbba9abdec21eaa57589985bb7a274bf54d6cc0a7"
   }
  }
 },
 "nbformat": 4,
 "nbformat_minor": 2
}
