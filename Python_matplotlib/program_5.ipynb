{
 "cells": [
  {
   "cell_type": "code",
   "execution_count": null,
   "metadata": {},
   "outputs": [],
   "source": [
    "'''\n",
    "    @Author: Bhupinder Singh\n",
    "    @Date: 27-12-2022\n",
    "    @Last Modified by: Bhupinder Singh\n",
    "    @Last Modified date: 27-12-2022\n",
    "    @Title: Write a Python program to plot two or more lines on same plot with suitable legends of each line.\n",
    "'''"
   ]
  },
  {
   "cell_type": "code",
   "execution_count": null,
   "metadata": {},
   "outputs": [],
   "source": [
    "import matplotlib.pyplot as plt\n",
    "import sys\n",
    "\n",
    "from data_log import get_logger\n",
    "\n",
    "lg = get_logger(name=\"(program_5)\", file_name=\"data_log.log\")"
   ]
  },
  {
   "cell_type": "code",
   "execution_count": null,
   "metadata": {},
   "outputs": [],
   "source": [
    "class DrawLine:\n",
    "    \"\"\"\n",
    "    class to perform graphical representation of data using matplotlib\n",
    "    \"\"\"\n",
    "\n",
    "    def line_plotting(self):\n",
    "        \"\"\"\n",
    "        Description:\n",
    "             This function is used to plot two or more lines on same plot with suitable legends of each line\n",
    "        Parameter:\n",
    "            None\n",
    "        Return:\n",
    "            Returns None\n",
    "        \"\"\"\n",
    "        try:\n",
    "            # Line 1\n",
    "            x1 = [1, 2, 3, 4]\n",
    "            y1 = [5, 4, 1, 6]\n",
    "            lg.info(f'x1 range: {x1} and y1 range: {y1}')\n",
    "\n",
    "            # plot lines to the axes\n",
    "            plt.plot(x1, y1, label='Line 1')\n",
    "\n",
    "            # Line 2\n",
    "            x2 = [4, 2, 7, 3]\n",
    "            y2 = [2, 4, 9, 5]\n",
    "            lg.info(f'x2 range: {x2} and y2 range: {y2}')\n",
    "\n",
    "            # plot lines to the axes\n",
    "            plt.plot(x2, y2, label='Line 2')\n",
    "\n",
    "            # set label for axes\n",
    "            plt.xlabel('X axis')\n",
    "            plt.ylabel('Y axis')\n",
    "\n",
    "            # title for plotting line\n",
    "            plt.title('Two lines on same plot')\n",
    "\n",
    "            # show a legend on the plot\n",
    "            plt.legend()\n",
    "\n",
    "            # show the figure\n",
    "            plt.show()\n",
    "\n",
    "        except Exception:\n",
    "            exception_type, _, exception_traceback = sys.exc_info()\n",
    "            line_number = exception_traceback.tb_lineno\n",
    "            lg.exception(\n",
    "                f\"Exception type : {exception_type} \\nError on line number : {line_number}\")"
   ]
  },
  {
   "cell_type": "code",
   "execution_count": null,
   "metadata": {},
   "outputs": [],
   "source": [
    "def main():   \n",
    "    np_obj = DrawLine()\n",
    "    np_obj.line_plotting_with_legends()\n",
    "\n",
    "if __name__ == \"__main__\":\n",
    "    main()"
   ]
  }
 ],
 "metadata": {
  "kernelspec": {
   "display_name": "Python 3",
   "language": "python",
   "name": "python3"
  },
  "language_info": {
   "name": "python",
   "version": "3.11.0 (main, Oct 24 2022, 18:26:48) [MSC v.1933 64 bit (AMD64)]"
  },
  "orig_nbformat": 4,
  "vscode": {
   "interpreter": {
    "hash": "c261aea317cc0286b3b3261fbba9abdec21eaa57589985bb7a274bf54d6cc0a7"
   }
  }
 },
 "nbformat": 4,
 "nbformat_minor": 2
}
