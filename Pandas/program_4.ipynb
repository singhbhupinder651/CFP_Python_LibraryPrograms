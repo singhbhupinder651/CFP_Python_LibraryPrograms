{
 "cells": [
  {
   "cell_type": "code",
   "execution_count": 1,
   "metadata": {},
   "outputs": [
    {
     "data": {
      "text/plain": [
       "'\\n    @Author: Bhupinder Singh\\n    @Date: 25-12-2022\\n    @Last Modified by: Bhupinder Singh\\n    @Last Modified date: 25-12-2022\\n    @Title: Write a Python program to get the powers of an array values element-wise.\\n            Note: First array elements raised to powers from second array\\n            Expected Output:\\n            Original array\\n            [0 1 2 3 4 5 6]\\n            First array elements raised to powers from second array, element-wise:\\n            [ 0 1 8 27 64 125 216]\\n\\n\\n'"
      ]
     },
     "execution_count": 1,
     "metadata": {},
     "output_type": "execute_result"
    }
   ],
   "source": [
    "'''\n",
    "    @Author: Bhupinder Singh\n",
    "    @Date: 25-12-2022\n",
    "    @Last Modified by: Bhupinder Singh\n",
    "    @Last Modified date: 25-12-2022\n",
    "    @Title: Write a Python program to get the powers of an array values element-wise.\n",
    "            Note: First array elements raised to powers from second array\n",
    "            Expected Output:\n",
    "            Original array\n",
    "            [0 1 2 3 4 5 6]\n",
    "            First array elements raised to powers from second array, element-wise:\n",
    "            [ 0 1 8 27 64 125 216]\n",
    "\n",
    "\n",
    "'''"
   ]
  },
  {
   "cell_type": "code",
   "execution_count": 2,
   "metadata": {},
   "outputs": [],
   "source": [
    "import sys\n",
    "\n",
    "from data_log import get_logger\n",
    "\n",
    "import numpy as np\n",
    "import pandas as pd\n",
    "\n",
    "lg = get_logger(name=\"(program_4)\", file_name=\"data_log.log\")"
   ]
  },
  {
   "cell_type": "code",
   "execution_count": 3,
   "metadata": {},
   "outputs": [],
   "source": [
    "class PandasDataManipulation:\n",
    "\n",
    "    def get_power_array(self, arr_data):\n",
    "        \"\"\"\n",
    "        Description:\n",
    "            This function is used to get the powers of an array values element-wise.\n",
    "        Parameter:\n",
    "            arr_data: The arr_data to be checked\n",
    "        Return:\n",
    "            Returns None\n",
    "        \"\"\"\n",
    "        try:\n",
    "            print(type(arr_data))\n",
    "            lg.info(f\"original array: {arr_data}\")\n",
    "            lg.info(\n",
    "                f\" First array elements raised to powers from second array, element-wise: {np.power(arr_data, 3)}\")\n",
    "\n",
    "        except Exception:\n",
    "            exception_type, _, exception_traceback = sys.exc_info()\n",
    "            line_number = exception_traceback.tb_lineno\n",
    "            lg.exception(\n",
    "                f\"Exception type : {exception_type} \\nError on line number : {line_number}\")"
   ]
  },
  {
   "cell_type": "code",
   "execution_count": 4,
   "metadata": {},
   "outputs": [
    {
     "name": "stderr",
     "output_type": "stream",
     "text": [
      "(program_4) - 2022-12-27 11:42:11,095 - INFO - original array: [0, 1, 2, 3, 4, 5, 6]\n",
      "(program_4) - 2022-12-27 11:42:11,095 - INFO -  First array elements raised to powers from second array, element-wise: [  0   1   8  27  64 125 216]\n"
     ]
    },
    {
     "name": "stdout",
     "output_type": "stream",
     "text": [
      "<class 'list'>\n"
     ]
    }
   ],
   "source": [
    "if __name__ == \"__main__\":\n",
    "    arr_data = [0, 1, 2, 3, 4, 5, 6]\n",
    "    pd_obj = PandasDataManipulation()\n",
    "    pd_obj.get_power_array(arr_data)"
   ]
  }
 ],
 "metadata": {
  "kernelspec": {
   "display_name": "Python 3",
   "language": "python",
   "name": "python3"
  },
  "language_info": {
   "codemirror_mode": {
    "name": "ipython",
    "version": 3
   },
   "file_extension": ".py",
   "mimetype": "text/x-python",
   "name": "python",
   "nbconvert_exporter": "python",
   "pygments_lexer": "ipython3",
   "version": "3.11.0"
  },
  "orig_nbformat": 4,
  "vscode": {
   "interpreter": {
    "hash": "c261aea317cc0286b3b3261fbba9abdec21eaa57589985bb7a274bf54d6cc0a7"
   }
  }
 },
 "nbformat": 4,
 "nbformat_minor": 2
}
