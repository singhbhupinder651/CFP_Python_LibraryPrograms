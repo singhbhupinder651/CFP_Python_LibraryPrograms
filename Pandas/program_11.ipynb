{
 "cells": [
  {
   "cell_type": "code",
   "execution_count": 1,
   "metadata": {},
   "outputs": [],
   "source": [
    "'''\n",
    "    @Author: Bhupinder Singh\n",
    "    @Date: 25-12-2022\n",
    "    @Last Modified by: Bhupinder Singh\n",
    "    @Last Modified date: 25-12-2022\n",
    "    @Title: Write a Python program to count the number of rows and columns of a DataFrame.\n",
    "            Sample data:\n",
    "            exam_data = {'name': ['Anastasia', 'Dima', 'Katherine', 'James', 'Emily', 'Michael', 'Matthew',\n",
    "            'Laura', 'Kevin', 'Jonas'],\n",
    "            'score': [12.5, 9, 16.5, np.nan, 9, 20, 14.5, np.nan, 8, 19],\n",
    "            'attempts': [1, 3, 2, 3, 2, 3, 1, 1, 2, 1],\n",
    "            'qualify': ['yes', 'no', 'yes', 'no', 'no', 'yes', 'yes', 'no', 'no', 'yes']}\n",
    "            labels = ['a', 'b', 'c', 'd', 'e', 'f', 'g', 'h', 'i', 'j']\n",
    "\n",
    "\n",
    "\n",
    "'''\n",
    "import sys\n",
    "\n",
    "from data_log import get_logger\n",
    "\n",
    "import numpy as np\n",
    "import pandas as pd\n",
    "\n",
    "lg = get_logger(name=\"(program_11)\", file_name=\"data_log.log\")"
   ]
  },
  {
   "cell_type": "code",
   "execution_count": 2,
   "metadata": {},
   "outputs": [],
   "source": [
    "class PandasDataManipulation:\n",
    "\n",
    "    def check_count(self, exam_data, labels):\n",
    "        \"\"\"\n",
    "        Description:\n",
    "            This function is used to count the number of rows and columns of a DataFrame.\n",
    "        Parameter:\n",
    "            exam_data and labels: The exam_data and labels to be checked\n",
    "        Return:\n",
    "            Returns None\n",
    "        \"\"\"\n",
    "        try:\n",
    "            data_frame = pd.DataFrame(exam_data, index=labels)\n",
    "            lg.info(\n",
    "                f\" Total rows: {len(data_frame.axes[0])}, and colums: {len(data_frame.axes[1])}\")\n",
    "        except Exception:\n",
    "            exception_type, _, exception_traceback = sys.exc_info()\n",
    "            line_number = exception_traceback.tb_lineno\n",
    "            lg.exception(\n",
    "                f\"Exception type : {exception_type} \\nError on line number : {line_number}\")"
   ]
  },
  {
   "cell_type": "code",
   "execution_count": 3,
   "metadata": {},
   "outputs": [
    {
     "name": "stderr",
     "output_type": "stream",
     "text": [
      "(program_11) - 2022-12-27 12:02:19,781 - INFO -  Total rows: 10, and colums: 4\n"
     ]
    }
   ],
   "source": [
    "if __name__ == \"__main__\":\n",
    "    exam_data = {'name': ['Anastasia', 'Dima', 'Katherine', 'James', 'Emily', 'Michael',\n",
    "                          'Matthew', 'Laura', 'Kevin', 'Jonas'],\n",
    "                 'score': [12.5, 9, 16.5, np.nan, 9, 20, 14.5, np.nan, 8, 19],\n",
    "                 'attempts': [1, 3, 2, 3, 2, 3, 1, 1, 2, 1],\n",
    "                 'qualify': ['yes', 'no', 'yes', 'no', 'no', 'yes', 'yes', 'no', 'no', 'yes']}\n",
    "    labels = ['a', 'b', 'c', 'd', 'e', 'f', 'g', 'h', 'i', 'j']\n",
    "    pd_obj = PandasDataManipulation()\n",
    "    pd_obj.check_count(exam_data, labels)"
   ]
  }
 ],
 "metadata": {
  "kernelspec": {
   "display_name": "Python 3",
   "language": "python",
   "name": "python3"
  },
  "language_info": {
   "codemirror_mode": {
    "name": "ipython",
    "version": 3
   },
   "file_extension": ".py",
   "mimetype": "text/x-python",
   "name": "python",
   "nbconvert_exporter": "python",
   "pygments_lexer": "ipython3",
   "version": "3.11.0"
  },
  "orig_nbformat": 4,
  "vscode": {
   "interpreter": {
    "hash": "c261aea317cc0286b3b3261fbba9abdec21eaa57589985bb7a274bf54d6cc0a7"
   }
  }
 },
 "nbformat": 4,
 "nbformat_minor": 2
}
