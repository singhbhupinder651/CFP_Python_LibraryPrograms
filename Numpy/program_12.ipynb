{
 "cells": [
  {
   "cell_type": "code",
   "execution_count": null,
   "metadata": {},
   "outputs": [],
   "source": [
    "'''\n",
    "    @Author: Bhupinder Singh\n",
    "    @Date: 25-12-2022\n",
    "    @Last Modified by: Bhupinder Singh\n",
    "    @Last Modified date: 25-12-2022\n",
    "    @Title: Write a Python program to find common values between two arrays.\n",
    "            Expected Output:\n",
    "            Array1: [ 0 10 20 40 60]\n",
    "            Array2: [10, 30, 40]\n",
    "            Common values between two arrays:\n",
    "            [10 40]\n",
    "'''\n",
    "import sys\n",
    "\n",
    "from data_log import get_logger\n",
    "\n",
    "import numpy as np\n",
    "\n",
    "lg = get_logger(name=\"(program_12)\", file_name=\"data_log.log\")"
   ]
  },
  {
   "cell_type": "code",
   "execution_count": null,
   "metadata": {},
   "outputs": [],
   "source": [
    "class NumericalPython:\n",
    "\n",
    "    def find_common_values(self, arr1, arr2):\n",
    "        \"\"\"\n",
    "        Description:\n",
    "             This function is used to find common values between two arrays\n",
    "        Parameter:\n",
    "            arr1, arr2: The arr1 and arr2 to be checked\n",
    "        Return:\n",
    "            Returns None\n",
    "        \"\"\"\n",
    "        try:\n",
    "            lg.info(f'\\nArray-1: {arr1} and \\nArray-2: {arr2}')\n",
    "            # common_values = [element for element in arr1 if element in arr2]\n",
    "            common_values = np.intersect1d(arr1, arr2)\n",
    "            lg.info(f'\\ncommon_values: {common_values}')\n",
    "        except Exception:\n",
    "            exception_type, _, exception_traceback = sys.exc_info()\n",
    "            line_number = exception_traceback.tb_lineno\n",
    "            lg.exception(\n",
    "                f\"Exception type : {exception_type} \\nError on line number : {line_number}\")"
   ]
  },
  {
   "cell_type": "code",
   "execution_count": null,
   "metadata": {},
   "outputs": [],
   "source": [
    "if __name__ == \"__main__\":\n",
    "    my_array1 = [0, 10, 20, 40, 60]\n",
    "    my_array2 = [10, 30, 40]\n",
    "    np_obj = NumericalPython()\n",
    "    np_obj.find_common_values(my_array1, my_array2)"
   ]
  }
 ],
 "metadata": {
  "kernelspec": {
   "display_name": "Python 3",
   "language": "python",
   "name": "python3"
  },
  "language_info": {
   "name": "python",
   "version": "3.11.0 (main, Oct 24 2022, 18:26:48) [MSC v.1933 64 bit (AMD64)]"
  },
  "orig_nbformat": 4,
  "vscode": {
   "interpreter": {
    "hash": "c261aea317cc0286b3b3261fbba9abdec21eaa57589985bb7a274bf54d6cc0a7"
   }
  }
 },
 "nbformat": 4,
 "nbformat_minor": 2
}
