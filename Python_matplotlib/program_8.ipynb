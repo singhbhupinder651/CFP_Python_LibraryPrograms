{
 "cells": [
  {
   "cell_type": "code",
   "execution_count": null,
   "metadata": {},
   "outputs": [],
   "source": [
    "'''\n",
    "    @Author: Bhupinder Singh\n",
    "    @Date: 27-12-2022\n",
    "    @Last Modified by: Bhupinder Singh\n",
    "    @Last Modified date: 27-12-2022\n",
    "    @Title: Write a Python program to plot two or more lines and set the line markers.\n",
    "'''"
   ]
  },
  {
   "cell_type": "code",
   "execution_count": null,
   "metadata": {},
   "outputs": [],
   "source": [
    "import matplotlib.pyplot as plt\n",
    "import sys\n",
    "\n",
    "from data_log import get_logger\n",
    "\n",
    "lg = get_logger(name=\"(program_8)\", file_name=\"data_log.log\")"
   ]
  },
  {
   "cell_type": "code",
   "execution_count": null,
   "metadata": {},
   "outputs": [],
   "source": [
    "class DrawLine:\n",
    "    \"\"\"\n",
    "    class to perform graphical representation of data using matplotlib\n",
    "    \"\"\"\n",
    "\n",
    "    def plot_two_or_more_lines(self):\n",
    "        \"\"\"\n",
    "        Description:\n",
    "             This function is used to plot two or more lines and set the line markers.\n",
    "        Parameter:\n",
    "            None\n",
    "        Return:\n",
    "            Returns None\n",
    "        \"\"\"\n",
    "        try:\n",
    "            # Line 1\n",
    "            x1 = [1, 2, 3]\n",
    "            y1 = [10, 20, 5]\n",
    "            lg.info(f'x1 range: {x1} and y1 range: {y1}')\n",
    "\n",
    "            # plotting the line 1 points with dash line style\n",
    "            plt.plot(x1, y1, color='blue', label='line 1', linestyle='dashed',\n",
    "                     marker='o', markerfacecolor='blue', markersize=12)\n",
    "\n",
    "            # Line 2\n",
    "            x2 = [1, 2, 3]\n",
    "            y2 = [40, 10, 5]\n",
    "            lg.info(f'x2 range: {x2} and y2 range: {y2}')\n",
    "\n",
    "            # plotting the line 2 points with dot line style\n",
    "            plt.plot(x2, y2, color='green', label='line 2', linestyle='dotted',\n",
    "                     marker='o', markerfacecolor='green', markersize=12)\n",
    "\n",
    "            # set label for axes\n",
    "            plt.xlabel('X axis')\n",
    "            plt.ylabel('y axis')\n",
    "\n",
    "            # title for plotting line\n",
    "            plt.title('Two or more lines on same plot with suitable legends ')\n",
    "\n",
    "            # show a legend on the plot\n",
    "            plt.legend()\n",
    "            \n",
    "            # show the figure\n",
    "            plt.show()\n",
    "\n",
    "        except Exception:\n",
    "            exception_type, _, exception_traceback = sys.exc_info()\n",
    "            line_number = exception_traceback.tb_lineno\n",
    "            lg.exception(\n",
    "                f\"Exception type : {exception_type} \\nError on line number : {line_number}\")"
   ]
  },
  {
   "cell_type": "code",
   "execution_count": null,
   "metadata": {},
   "outputs": [],
   "source": [
    "def main():   \n",
    "    np_obj = DrawLine()\n",
    "    np_obj.plot_two_or_more_lines()\n",
    "\n",
    "if __name__ == \"__main__\":\n",
    "    main()"
   ]
  }
 ],
 "metadata": {
  "language_info": {
   "name": "python"
  },
  "orig_nbformat": 4
 },
 "nbformat": 4,
 "nbformat_minor": 2
}
